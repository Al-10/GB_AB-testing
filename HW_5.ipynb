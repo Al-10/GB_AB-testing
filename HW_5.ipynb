{
 "cells": [
  {
   "cell_type": "code",
   "execution_count": 4,
   "metadata": {},
   "outputs": [],
   "source": [
    "import numpy as np\n",
    "\n",
    "from scipy import stats\n",
    "\n",
    "import warnings\n",
    "warnings.filterwarnings('ignore')"
   ]
  },
  {
   "cell_type": "markdown",
   "metadata": {},
   "source": [
    "## Задание 1.\n",
    "\n",
    "Вы провели эксперимент c упрощением формы заказа в магазине Утконос и получили результаты по метрике конверсий в покупку. Выберите метод оценки и оцените есть ли стат.значимые различия между конверсиями в двух группах при alpha = 5%. Дайте краткие рекомендации команде.\n",
    "Результаты: \n",
    "1)Число юзеров в группах , которые заходили на сайт в период эксперимента: n1 = 15550 и n2 = 15550 . \n",
    "2) Число юзеров в группах , которые совершили хотя бы одну покупку за период эксперимента: n1 = 164 и n2 = 228 \n",
    "3) Конверсии : conv1 = 1.05% conv2 = 1.47% . "
   ]
  },
  {
   "cell_type": "markdown",
   "metadata": {},
   "source": [
    "Для оценки статистической значимости различий между конверсиями в двух группах будем использовать Z-критерий для разности долей."
   ]
  },
  {
   "cell_type": "code",
   "execution_count": 5,
   "metadata": {},
   "outputs": [],
   "source": [
    "n1, n2, m1, m2, alpha = 15550, 15550, 164, 228, 0.05"
   ]
  },
  {
   "cell_type": "code",
   "execution_count": 6,
   "metadata": {},
   "outputs": [
    {
     "name": "stdout",
     "output_type": "stream",
     "text": [
      "Zk = 1.64\n",
      "Zn = -3.25\n",
      "H0: p1 = p2 is False\n"
     ]
    }
   ],
   "source": [
    "p1, p2, p = m1/n1, m2/n2, (m1+m2)/(n1+n2)\n",
    "\n",
    "Zk = stats.norm.ppf(1-alpha)\n",
    "print(f'{Zk = :.2f}')\n",
    "\n",
    "Zn = (p1-p2)/np.sqrt(p*(1-p)*(1/n1+1/n2))\n",
    "print(f'{Zn = :.2f}')\n",
    "\n",
    "print(f'H0: p1 = p2 is {Zn>-Zk}')"
   ]
  },
  {
   "cell_type": "markdown",
   "metadata": {},
   "source": [
    "Нулевую гипотезу отвергаем. Изменения внесенные в заказную форму в магазине Утконос дали статистически значимый эффект на уровень конверсии в покупку. Рекомендуется использовать новую форму заказа."
   ]
  },
  {
   "cell_type": "markdown",
   "metadata": {},
   "source": [
    "## Задание 2.\n",
    "\n",
    "Сравниваем метрику конверсия в покупку. Размер выборки - 10000 элементов в каждой группе. Какой статистический критерий тут лучше всего подойдёт и почему?"
   ]
  },
  {
   "cell_type": "markdown",
   "metadata": {},
   "source": [
    "Для метрики \"конверсия в покупку\" с достаточно большими выборками (больше 30) можно использовать Z-критерий для разности долей."
   ]
  }
 ],
 "metadata": {
  "kernelspec": {
   "display_name": "Python 3.11.0 64-bit",
   "language": "python",
   "name": "python3"
  },
  "language_info": {
   "codemirror_mode": {
    "name": "ipython",
    "version": 3
   },
   "file_extension": ".py",
   "mimetype": "text/x-python",
   "name": "python",
   "nbconvert_exporter": "python",
   "pygments_lexer": "ipython3",
   "version": "3.11.0"
  },
  "orig_nbformat": 4,
  "vscode": {
   "interpreter": {
    "hash": "aee8b7b246df8f9039afb4144a1f6fd8d2ca17a180786b69acc140d282b71a49"
   }
  }
 },
 "nbformat": 4,
 "nbformat_minor": 2
}
